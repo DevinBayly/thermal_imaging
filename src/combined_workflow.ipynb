{
 "cells": [
  {
   "cell_type": "code",
   "execution_count": 1,
   "id": "6e192d28",
   "metadata": {},
   "outputs": [],
   "source": [
    "import cv2"
   ]
  },
  {
   "cell_type": "code",
   "execution_count": 2,
   "id": "f3456b16",
   "metadata": {},
   "outputs": [],
   "source": [
    "from classes import KPCalc,MOG1"
   ]
  },
  {
   "cell_type": "code",
   "execution_count": 3,
   "id": "af353dac",
   "metadata": {},
   "outputs": [],
   "source": [
    "import glob"
   ]
  },
  {
   "cell_type": "code",
   "execution_count": 4,
   "id": "8325ce00",
   "metadata": {},
   "outputs": [],
   "source": [
    "videos = glob.glob(\"../../**/*mp4\",recursive = True)"
   ]
  },
  {
   "cell_type": "code",
   "execution_count": 5,
   "id": "2fb1e4e6",
   "metadata": {},
   "outputs": [
    {
     "name": "stderr",
     "output_type": "stream",
     "text": [
      "Qt: Session management error: None of the authentication protocols specified are supported\n"
     ]
    }
   ],
   "source": [
    "m1 = MOG1()\n",
    "m1.vid = videos[0]\n",
    "m1.process()"
   ]
  },
  {
   "cell_type": "code",
   "execution_count": null,
   "id": "cb5c2bf8",
   "metadata": {},
   "outputs": [],
   "source": []
  }
 ],
 "metadata": {
  "kernelspec": {
   "display_name": "Python 3 (ipykernel)",
   "language": "python",
   "name": "python3"
  },
  "language_info": {
   "codemirror_mode": {
    "name": "ipython",
    "version": 3
   },
   "file_extension": ".py",
   "mimetype": "text/x-python",
   "name": "python",
   "nbconvert_exporter": "python",
   "pygments_lexer": "ipython3",
   "version": "3.9.5"
  }
 },
 "nbformat": 4,
 "nbformat_minor": 5
}
