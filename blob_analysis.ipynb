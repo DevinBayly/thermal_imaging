{
 "cells": [
  {
   "cell_type": "code",
   "execution_count": null,
   "id": "62378590",
   "metadata": {},
   "outputs": [],
   "source": [
    "import cv2"
   ]
  },
  {
   "cell_type": "code",
   "execution_count": 4,
   "id": "87b0c1d4",
   "metadata": {},
   "outputs": [],
   "source": [
    "import glob"
   ]
  },
  {
   "cell_type": "code",
   "execution_count": 5,
   "id": "b3b466be",
   "metadata": {},
   "outputs": [],
   "source": [
    "images = glob.glob(\"./*.png\")"
   ]
  },
  {
   "cell_type": "code",
   "execution_count": 8,
   "id": "676a3546",
   "metadata": {},
   "outputs": [],
   "source": [
    "detector = cv2.SimpleBlobDetector()"
   ]
  },
  {
   "cell_type": "code",
   "execution_count": 9,
   "id": "5ba1b99b",
   "metadata": {},
   "outputs": [],
   "source": [
    "im = cv2.imread(glob.glob(\"./*276*.png\")[0],cv2.IMREAD_GRAYSCALE)\n",
    "\n"
   ]
  },
  {
   "cell_type": "code",
   "execution_count": null,
   "id": "22ee12b0",
   "metadata": {},
   "outputs": [],
   "source": [
    "kp = detector.detect(im)"
   ]
  },
  {
   "cell_type": "code",
   "execution_count": 1,
   "id": "9d83a50d",
   "metadata": {},
   "outputs": [
    {
     "ename": "NameError",
     "evalue": "name 'kp' is not defined",
     "output_type": "error",
     "traceback": [
      "\u001b[0;31m---------------------------------------------------------------------------\u001b[0m",
      "\u001b[0;31mNameError\u001b[0m                                 Traceback (most recent call last)",
      "\u001b[0;32m/tmp/ipykernel_42614/3144644393.py\u001b[0m in \u001b[0;36m<module>\u001b[0;34m\u001b[0m\n\u001b[0;32m----> 1\u001b[0;31m \u001b[0mkp\u001b[0m\u001b[0;34m\u001b[0m\u001b[0;34m\u001b[0m\u001b[0m\n\u001b[0m",
      "\u001b[0;31mNameError\u001b[0m: name 'kp' is not defined"
     ]
    }
   ],
   "source": [
    "kp"
   ]
  },
  {
   "cell_type": "code",
   "execution_count": null,
   "id": "70651a54",
   "metadata": {},
   "outputs": [],
   "source": []
  }
 ],
 "metadata": {
  "kernelspec": {
   "display_name": "Python 3 (ipykernel)",
   "language": "python",
   "name": "python3"
  },
  "language_info": {
   "codemirror_mode": {
    "name": "ipython",
    "version": 3
   },
   "file_extension": ".py",
   "mimetype": "text/x-python",
   "name": "python",
   "nbconvert_exporter": "python",
   "pygments_lexer": "ipython3",
   "version": "3.9.5"
  }
 },
 "nbformat": 4,
 "nbformat_minor": 5
}
